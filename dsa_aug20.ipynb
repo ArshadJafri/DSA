{
  "nbformat": 4,
  "nbformat_minor": 0,
  "metadata": {
    "colab": {
      "provenance": [],
      "authorship_tag": "ABX9TyPN9av9V/1IL5Cm4DqxYsLC",
      "include_colab_link": true
    },
    "kernelspec": {
      "name": "python3",
      "display_name": "Python 3"
    },
    "language_info": {
      "name": "python"
    }
  },
  "cells": [
    {
      "cell_type": "markdown",
      "metadata": {
        "id": "view-in-github",
        "colab_type": "text"
      },
      "source": [
        "<a href=\"https://colab.research.google.com/github/ArshadJafri/DSA/blob/main/dsa_aug20.ipynb\" target=\"_parent\"><img src=\"https://colab.research.google.com/assets/colab-badge.svg\" alt=\"Open In Colab\"/></a>"
      ]
    },
    {
      "cell_type": "code",
      "execution_count": null,
      "metadata": {
        "colab": {
          "base_uri": "https://localhost:8080/"
        },
        "id": "vnzNrbNZH35I",
        "outputId": "84e2eaf1-a5e0-4be9-fd88-dcf256b0d182"
      },
      "outputs": [
        {
          "output_type": "execute_result",
          "data": {
            "text/plain": [
              "0"
            ]
          },
          "metadata": {},
          "execution_count": 3
        }
      ],
      "source": [
        "def linearSearch(a, k: int):\n",
        "\n",
        "  for i in range(len(a)):\n",
        "    if (a[i] == k):\n",
        "      return i\n",
        "      break\n",
        "  return -1\n",
        "\n",
        "linearSearch([10,20,30,40], 10)"
      ]
    },
    {
      "cell_type": "code",
      "source": [
        "def linearserach(arr, k):\n",
        "  for i in range(len(arr)):\n",
        "    if (arr[i] == k):\n",
        "      return i\n",
        "      break\n",
        "  return -1\n",
        "\n",
        "\n"
      ],
      "metadata": {
        "id": "gzX_IbrLM7qd"
      },
      "execution_count": null,
      "outputs": []
    },
    {
      "cell_type": "code",
      "source": [
        "def linearserach(arr, k):\n",
        "  for i in range(len(arr)):\n",
        "    if arr[i] == k:\n",
        "      return i\n",
        "      break\n",
        "    return -1\n",
        "\n"
      ],
      "metadata": {
        "id": "vOZevVzthSan"
      },
      "execution_count": null,
      "outputs": []
    },
    {
      "cell_type": "code",
      "source": [
        "from typing import List\n",
        "def linearsearch(arr:List, k: int) -> int:\n",
        "\n",
        "  for i in range(len(arr)):\n",
        "    if(arr[i]==k):\n",
        "      return i\n",
        "      break\n",
        "  return -1\n",
        "\n",
        "linearSearch([10,20,30,40], 10)"
      ],
      "metadata": {
        "colab": {
          "base_uri": "https://localhost:8080/"
        },
        "id": "tv0ry3H0YAP0",
        "outputId": "b4d308b5-cc04-473f-edf8-209e7b402b63"
      },
      "execution_count": null,
      "outputs": [
        {
          "output_type": "execute_result",
          "data": {
            "text/plain": [
              "0"
            ]
          },
          "metadata": {},
          "execution_count": 4
        }
      ]
    },
    {
      "cell_type": "code",
      "source": [
        "from typing import List\n",
        "def binarySearch(a: List, k: int)-> int:\n",
        "\n",
        "  left = 0\n",
        "  right = len(a)-1\n",
        "\n",
        "  while left <=right:\n",
        "    mid = (left+right)//2\n",
        "\n",
        "    if a[mid] == k:\n",
        "      return mid\n",
        "      break\n",
        "\n",
        "    elif a[mid] >= k:\n",
        "      right = mid-1\n",
        "\n",
        "\n",
        "    else:\n",
        "      left = mid+1\n",
        "\n",
        "\n",
        "    return mid\n",
        "\n",
        "\n",
        "  return -1\n",
        "\n",
        "binarySearch([10,20,30,40], 10)\n",
        "\n"
      ],
      "metadata": {
        "colab": {
          "base_uri": "https://localhost:8080/"
        },
        "id": "DJlcQi2lIk2R",
        "outputId": "9dd3b3e5-b662-4158-9a9a-941ece292c91"
      },
      "execution_count": null,
      "outputs": [
        {
          "output_type": "execute_result",
          "data": {
            "text/plain": [
              "1"
            ]
          },
          "metadata": {},
          "execution_count": 6
        }
      ]
    },
    {
      "cell_type": "code",
      "source": [
        "def binaryserach(arr, k):\n",
        "\n",
        "  l= 0,\n",
        "  r = len(arr)-1\n",
        "\n",
        "  while l<r:\n",
        "    mid = (l+r)//2\n",
        "\n",
        "    if arr[mid] ==k:\n",
        "      return mid\n",
        "\n",
        "    elif arr[mid] <=k:\n",
        "      l = mid+1\n",
        "    else:\n",
        "      r = mid-1\n",
        "\n",
        "    return mid\n",
        "  return -1\n",
        "\n",
        "\n"
      ],
      "metadata": {
        "id": "8r7He4jRNIof"
      },
      "execution_count": null,
      "outputs": []
    },
    {
      "cell_type": "code",
      "source": [
        "def binarysearch(arr, k):\n",
        "\n",
        "  left = 0\n",
        "  right = len(arr)-1\n",
        "\n",
        "  while left <= right:\n",
        "    min = left+right //2\n",
        "\n",
        "    if mid == k:\n",
        "      return mid\n",
        "\n",
        "    elif arr[mid]>=k:\n",
        "      right = mid-1\n",
        "\n",
        "    else:\n",
        "      left = mid+1\n",
        "\n",
        "    return mid\n",
        "\n",
        "  return -1\n",
        "\n"
      ],
      "metadata": {
        "id": "uD_kljrbhdH0"
      },
      "execution_count": null,
      "outputs": []
    },
    {
      "cell_type": "code",
      "source": [
        "def binarysearch(arr: List,k : int)-> int:\n",
        "\n",
        "  left =0\n",
        "  right = len(arr)-1\n",
        "\n",
        "  while left <= right:\n",
        "    mid = (left+right)//2\n",
        "\n",
        "    if arr[mid] == k:\n",
        "      return mid\n",
        "      break\n",
        "\n",
        "    elif arr[mid]>=k:\n",
        "      right = mid-1\n",
        "\n",
        "    else:\n",
        "      left =mid+1\n",
        "\n",
        "  return -1\n",
        "\n",
        "binarysearch([10,20,30,40], 10)"
      ],
      "metadata": {
        "colab": {
          "base_uri": "https://localhost:8080/"
        },
        "id": "neaDvJwGYYwl",
        "outputId": "cf15a8b1-3769-4cb5-f68e-7c12d60865ed"
      },
      "execution_count": null,
      "outputs": [
        {
          "output_type": "execute_result",
          "data": {
            "text/plain": [
              "0"
            ]
          },
          "metadata": {},
          "execution_count": 5
        }
      ]
    },
    {
      "cell_type": "code",
      "source": [
        "def bubblesort(arr: List) -> List:\n",
        "\n",
        "\n",
        "  for i in range(len(arr)-1):\n",
        "    for j in range(len(arr)-1):\n",
        "      if arr[j]>arr[j+1]:\n",
        "        arr[j],arr[j+1]=arr[j+1],arr[j]\n",
        "\n",
        "  return arr\n",
        "\n",
        "bubblesort([20,10,30,2])"
      ],
      "metadata": {
        "colab": {
          "base_uri": "https://localhost:8080/"
        },
        "id": "EAA3RykBJ4Aq",
        "outputId": "fb430386-a516-4249-90f6-b1ee5e06372a"
      },
      "execution_count": null,
      "outputs": [
        {
          "output_type": "execute_result",
          "data": {
            "text/plain": [
              "[2, 10, 20, 30]"
            ]
          },
          "metadata": {},
          "execution_count": 7
        }
      ]
    },
    {
      "cell_type": "code",
      "source": [
        "def bubblesort(arr):\n",
        "\n",
        "  for i in range(len(arr)-1):\n",
        "    for j in range(len(arr)-1):\n",
        "      if arr[j]> arr[j+1]:\n",
        "        arr[j], arr[j+1]=arr[j+1],arr[j]\n",
        "  return arr\n"
      ],
      "metadata": {
        "id": "4Fd3Qu2ON4A1"
      },
      "execution_count": null,
      "outputs": []
    },
    {
      "cell_type": "code",
      "source": [
        "def bubblesort(arr):\n",
        "  for i in range(len(arr)-1):\n",
        "    for j in range(len(arr)-1):\n",
        "      if arr[j] > arr[j+1]:\n",
        "        arr[j], arr[j+1] = arr[j+1],arr[j]\n",
        "  return arr\n"
      ],
      "metadata": {
        "id": "1dEvdMghh7ZY"
      },
      "execution_count": null,
      "outputs": []
    },
    {
      "cell_type": "code",
      "source": [
        "def bubblesort(arr:List)-> List:\n",
        "\n",
        "  for i in range(len(arr)-1):\n",
        "    for j in range(len(arr)-1):\n",
        "      if(arr[j]>arr[j+1]):\n",
        "        arr[j],arr[j+1]=arr[j+1],arr[j]\n",
        "  return arr\n",
        "\n",
        "bubblesort([20,10,30,2])"
      ],
      "metadata": {
        "colab": {
          "base_uri": "https://localhost:8080/"
        },
        "id": "uyh__wkVY2F7",
        "outputId": "7c63caab-a0d4-44de-8bd9-5d17f62593a7"
      },
      "execution_count": null,
      "outputs": [
        {
          "output_type": "execute_result",
          "data": {
            "text/plain": [
              "[2, 10, 20, 30]"
            ]
          },
          "metadata": {},
          "execution_count": 6
        }
      ]
    },
    {
      "cell_type": "code",
      "source": [
        "def selectionsort(arr:List) -> List:\n",
        "\n",
        "  for i in range(len(arr)):\n",
        "    min_index = i\n",
        "    for j in range(i+1, len(arr)):\n",
        "      if(arr[j] <arr[min_index]):\n",
        "        min_index = j\n",
        "\n",
        "    arr[i], arr[min_index]= arr[min_index], arr[i]\n",
        "\n",
        "  return arr\n",
        "\n",
        "selectionsort([20,10,30,2])"
      ],
      "metadata": {
        "colab": {
          "base_uri": "https://localhost:8080/"
        },
        "id": "Md4K8iLEZGC3",
        "outputId": "b2e087f0-61a9-4691-dcce-4a41e9ed77c1"
      },
      "execution_count": null,
      "outputs": [
        {
          "output_type": "execute_result",
          "data": {
            "text/plain": [
              "[2, 10, 20, 30]"
            ]
          },
          "metadata": {},
          "execution_count": 7
        }
      ]
    },
    {
      "cell_type": "code",
      "source": [
        "def selectionsort(arr):\n",
        "\n",
        "  for i in range(len(arr)):\n",
        "    min_index = i\n",
        "    for j in range(i+1, len(arr)):\n",
        "      if arr[j] < arr[min_index]:\n",
        "        min_index = j\n",
        "    arr[i],arr[min_index] =arr[min_index],arr[i]\n",
        "\n",
        "  return arr\n",
        "\n",
        "selectionsort([20,10,30,2])"
      ],
      "metadata": {
        "colab": {
          "base_uri": "https://localhost:8080/"
        },
        "id": "vwpT1cOgOIiW",
        "outputId": "b248e1a2-4e86-4e1f-ed24-6fdf26f79915"
      },
      "execution_count": null,
      "outputs": [
        {
          "output_type": "execute_result",
          "data": {
            "text/plain": [
              "[2, 10, 20, 30]"
            ]
          },
          "metadata": {},
          "execution_count": 2
        }
      ]
    },
    {
      "cell_type": "code",
      "source": [
        "def selectionsort(arr):\n",
        "\n",
        "  for i in range(len(arr)):\n",
        "    min_index = j\n",
        "\n",
        "    for j in range(i+1, len(arr)):\n",
        "      if(arr[j] <arr[min_index]):\n",
        "        min_index = j\n",
        "\n",
        "    arr[i],arr[min_index] =arr[min_index],arr[i]\n",
        "\n",
        "  return arr"
      ],
      "metadata": {
        "id": "UAwG70qRiK_4"
      },
      "execution_count": null,
      "outputs": []
    },
    {
      "cell_type": "code",
      "source": [],
      "metadata": {
        "id": "UW22RtPxkSYE"
      },
      "execution_count": null,
      "outputs": []
    },
    {
      "cell_type": "code",
      "source": [
        "from re import S\n",
        "def selectionsort(arr:List) -> List:\n",
        "\n",
        "  for i in range(len(arr)):\n",
        "    min_index = i\n",
        "    for j in range(i+1, len(arr)):\n",
        "      if(arr[j] <arr[min_index]):\n",
        "        min_index = j\n",
        "\n",
        "    arr[i], arr[min_index]= arr[min_index],arr[i]\n",
        "\n",
        "\n",
        "  return arr\n",
        "\n",
        "selectionsort([20,10,30,2])"
      ],
      "metadata": {
        "colab": {
          "base_uri": "https://localhost:8080/"
        },
        "id": "wS8yojlUKr1e",
        "outputId": "484f0a83-1ca3-489b-fd17-2530d0037d7d"
      },
      "execution_count": null,
      "outputs": [
        {
          "output_type": "execute_result",
          "data": {
            "text/plain": [
              "[2, 10, 20, 30]"
            ]
          },
          "metadata": {},
          "execution_count": 8
        }
      ]
    },
    {
      "cell_type": "code",
      "source": [
        "def insertionsort(arr: List) -> List:\n",
        "\n",
        "  for i in range(1, len(arr)):\n",
        "    cur = i\n",
        "\n",
        "    while cur > 0 and arr[cur]<arr[cur-1]:\n",
        "      arr[cur], arr[cur-1] =arr[cur-1],arr[cur]\n",
        "      cur-=1\n",
        "\n",
        "  return arr\n",
        "\n",
        "insertionsort([20,10,30,2])"
      ],
      "metadata": {
        "colab": {
          "base_uri": "https://localhost:8080/"
        },
        "id": "PILKoOBLPRQb",
        "outputId": "8f8860ef-349b-48c4-e0a9-810730f50d75"
      },
      "execution_count": null,
      "outputs": [
        {
          "output_type": "execute_result",
          "data": {
            "text/plain": [
              "[2, 10, 20, 30]"
            ]
          },
          "metadata": {},
          "execution_count": 9
        }
      ]
    },
    {
      "cell_type": "code",
      "source": [
        "def insertionsort(arr):\n",
        "    for i in range(1, len(arr)):\n",
        "        cur = i\n",
        "        while cur > 0 and arr[cur] < arr[cur - 1]:\n",
        "            arr[cur], arr[cur - 1] = arr[cur - 1], arr[cur]\n",
        "            cur -= 1\n",
        "    return arr\n",
        "\n",
        "# Call the function and print the result\n",
        "print(insertionsort([20, 10, 30, 2]))\n"
      ],
      "metadata": {
        "colab": {
          "base_uri": "https://localhost:8080/"
        },
        "id": "q7TjQcMaPBag",
        "outputId": "94c2ae83-e9c6-415e-ad45-99b7cf01004b"
      },
      "execution_count": null,
      "outputs": [
        {
          "output_type": "stream",
          "name": "stdout",
          "text": [
            "[2, 10, 20, 30]\n"
          ]
        }
      ]
    },
    {
      "cell_type": "code",
      "source": [
        "def insertionsort(arr):\n",
        "\n",
        "  for i in range(1, len(arr)):\n",
        "\n",
        "    cur =i\n",
        "    while cur >0 and arr[cur] <arr[cur-1]:\n",
        "      arr[cur],arr[cur-1] =arr[cur-1],arr[cur]\n",
        "      cur -=1\n",
        "    return arr\n"
      ],
      "metadata": {
        "id": "tI9xFaYLkTN8"
      },
      "execution_count": null,
      "outputs": []
    },
    {
      "cell_type": "code",
      "source": [
        "def insertionsort(arr:List)->List:\n",
        "\n",
        "  for i in range(1,len(arr)):\n",
        "    cur = i\n",
        "\n",
        "    while cur >0 and arr[cur]<arr[cur-1]:\n",
        "      arr[cur], arr[cur-1]= arr[cur-1], arr[cur]\n",
        "      cur -=1\n",
        "  return arr\n",
        "\n",
        "\n",
        "insertionsort([20,10,30,2])"
      ],
      "metadata": {
        "colab": {
          "base_uri": "https://localhost:8080/"
        },
        "id": "u0Y-_WGlQ1M_",
        "outputId": "84d1772a-b69e-4fa3-a5d6-51714f1696c1"
      },
      "execution_count": null,
      "outputs": [
        {
          "output_type": "execute_result",
          "data": {
            "text/plain": [
              "[2, 10, 20, 30]"
            ]
          },
          "metadata": {},
          "execution_count": 10
        }
      ]
    },
    {
      "cell_type": "code",
      "source": [
        "def quick_sort(arr, low, high):\n",
        "    if low < high:\n",
        "        pivot_index = partition(arr, low, high)\n",
        "        quick_sort(arr, low, pivot_index - 1)\n",
        "        quick_sort(arr, pivot_index + 1, high)\n",
        "\n",
        "def partition(arr, low, high):\n",
        "    pivot = arr[low]\n",
        "    i = low + 1\n",
        "    j = high\n",
        "\n",
        "    while True:\n",
        "        while i <= j and arr[i] <= pivot:\n",
        "            i += 1\n",
        "        while i <= j and arr[j] > pivot:\n",
        "            j -= 1\n",
        "\n",
        "        if i < j:\n",
        "            arr[i], arr[j] = arr[j], arr[i]\n",
        "        else:\n",
        "            break\n",
        "\n",
        "    arr[low], arr[j] = arr[j], arr[low]\n",
        "    return j\n",
        "\n",
        "# Example usage\n",
        "arr = [60, 20, 50, 40, 70, 10, 30]\n",
        "quick_sort(arr, 0, len(arr) - 1)\n",
        "print(\"Sorted array:\", arr)\n"
      ],
      "metadata": {
        "colab": {
          "base_uri": "https://localhost:8080/"
        },
        "id": "vJnEArh6hquR",
        "outputId": "354b82ec-ca4d-4e34-eede-724b38acc3c7"
      },
      "execution_count": null,
      "outputs": [
        {
          "output_type": "stream",
          "name": "stdout",
          "text": [
            "Sorted array: [10, 20, 30, 40, 50, 60, 70]\n"
          ]
        }
      ]
    },
    {
      "cell_type": "code",
      "source": [
        "def quick_sort(arr, low, high):\n",
        "    if low < high:\n",
        "        pivot_index = partition(arr, low, high)\n",
        "        quick_sort(arr, low, pivot_index - 1)\n",
        "        quick_sort(arr, pivot_index + 1, high)\n",
        "\n",
        "def partition(arr, low, high):\n",
        "    pivot = arr[low]\n",
        "    i = low + 1\n",
        "    j = high\n",
        "\n",
        "    while True:\n",
        "        while i <= j and arr[i] <= pivot:\n",
        "            i += 1\n",
        "        while i <= j and arr[j] > pivot:\n",
        "            j -= 1\n",
        "        if i < j:\n",
        "            arr[i], arr[j] = arr[j], arr[i]\n",
        "        else:\n",
        "            break\n",
        "\n",
        "    arr[low], arr[j] = arr[j], arr[low]\n",
        "    return j\n",
        "\n",
        "# Example usage:\n",
        "arr = [60, 20, 50, 40, 70, 10, 30]\n",
        "quick_sort(arr, 0, len(arr) - 1)\n",
        "print(\"Sorted array:\", arr)"
      ],
      "metadata": {
        "id": "hx6o7n_xjHhd"
      },
      "execution_count": null,
      "outputs": []
    },
    {
      "cell_type": "code",
      "source": [
        "def quicksort(arr,low, high):\n",
        "\n",
        "  if(low< high):\n",
        "     pivot_index = partition(arr, low, high)\n",
        "     quicksort(arr, low, pivot_index-1)\n",
        "     quicksort(arr, pivot_index+1, high)\n",
        "\n",
        "\n",
        "\n",
        "def partition(arr, low, high):\n",
        "\n",
        "  pivot= arr[low]\n",
        "  i = low+1\n",
        "  j = high\n",
        "\n",
        "  while True:\n",
        "\n",
        "    while i<=j and arr[i] <=pivot:\n",
        "      i+=1\n",
        "\n",
        "    while i<=j and arr[j] > pivot:\n",
        "      j -=1\n",
        "\n",
        "    if i< j:\n",
        "      arr[i],arr[j] =arr[j],arr[i]\n",
        "\n",
        "    else:\n",
        "      break\n",
        "  arr[low], arr[j] =arr[j],arr[low]\n",
        "  return j\n",
        "\n",
        "arr = [60, 20, 50, 40, 70, 10, 30]\n",
        "quicksort(arr, 0, len(arr) - 1)\n",
        "print(\"Sorted array:\", arr)"
      ],
      "metadata": {
        "colab": {
          "base_uri": "https://localhost:8080/"
        },
        "id": "YEmAlIbUTxx3",
        "outputId": "b1819167-4474-46e4-f62c-30030da30fec"
      },
      "execution_count": null,
      "outputs": [
        {
          "output_type": "stream",
          "name": "stdout",
          "text": [
            "Sorted array: [10, 20, 30, 40, 50, 60, 70]\n"
          ]
        }
      ]
    },
    {
      "cell_type": "code",
      "source": [
        "def quicksort(arr, low, high):\n",
        "  if low < high:\n",
        "    pivot_index = partition(arr, low, high)\n",
        "    quicksort(arr, low, pivot_index-1)\n",
        "    quicksort(arr, pivot_index+1, high)\n",
        "\n",
        "def partition(arr,low, high):\n",
        "   pivot = arr(low)\n",
        "   i = low+1\n",
        "   j = high\n",
        "\n",
        "   while True:\n",
        "\n",
        "    while i <=j and arr[i] <= pivot:\n",
        "      i+=1\n",
        "    while i<=j and arr[j] > pivot:\n",
        "      j-=1\n",
        "\n",
        "    if i <j:\n",
        "      arr[i],arr[j] =arr[j],arr[i]\n",
        "    else:\n",
        "      break\n",
        "\n",
        "  arr[low],arr[j] = arr[j],arr[low]\n",
        "  return j\n",
        "\n"
      ],
      "metadata": {
        "id": "PtDdeDgvk3xz"
      },
      "execution_count": null,
      "outputs": []
    },
    {
      "cell_type": "code",
      "source": [
        "def quicksort(arr, low, high):\n",
        "\n",
        "  if low < high:\n",
        "    pivot_index = partition(arr, low, help)\n",
        "    quicksort(arr, low, pivot_index-1)\n",
        "    quicksort(arr, pivot_index+1, high)\n",
        "\n",
        "\n",
        "\n",
        "def partition(arr, low, high):\n",
        "  pivot = arr[low]\n",
        "  left = low+1\n",
        "  right =highlight\n",
        "\n",
        "\n",
        "  while True:\n",
        "\n",
        "    while left <=right and arr[left] <=pivot:\n",
        "      i+=1\n",
        "    while left <=right and arr[right] > pivot:\n",
        "      j-=1\n",
        "\n",
        "    if i < j:\n",
        "      arr[i],arr[j] =arr[j],arr[i]\n",
        "    else:\n",
        "      break\n",
        "  arr[low],arr[j] =arr[j], arr[low]\n",
        "  return j"
      ],
      "metadata": {
        "id": "pscihiIGPtKR"
      },
      "execution_count": null,
      "outputs": []
    },
    {
      "cell_type": "code",
      "source": [
        "def merge_sort(arr, start, end):\n",
        "    if start < end:\n",
        "        mid = (start + end) // 2\n",
        "        print(f\"merge_sort called on: {arr[start:end+1]}\")\n",
        "        merge_sort(arr, start, mid)      # Sort left half\n",
        "        merge_sort(arr, mid + 1, end)    # Sort right half\n",
        "        merge(arr, start, mid, end)\n",
        "        print(f\"After merge: {arr[start:end+1]}\")\n",
        "\n",
        "def merge(arr, start, mid, end):\n",
        "    left = arr[start:mid + 1]\n",
        "    right = arr[mid + 1:end + 1]\n",
        "    i = j = 0\n",
        "    k = start\n",
        "    print(f\"Merging {left} and {right}\")\n",
        "\n",
        "    while i < len(left) and j < len(right):\n",
        "        if left[i] <= right[j]:\n",
        "            arr[k] = left[i]\n",
        "            i += 1\n",
        "        else:\n",
        "            arr[k] = right[j]\n",
        "            j += 1\n",
        "        k += 1\n",
        "    while i < len(left):\n",
        "        arr[k] = left[i]\n",
        "        i += 1\n",
        "        k += 1\n",
        "\n",
        "    while j < len(right):\n",
        "        arr[k] = right[j]\n",
        "        j += 1\n",
        "        k += 1\n",
        "\n",
        "\n",
        "arr = [60, 20, 50, 40, 70, 10, 30]\n",
        "merge_sort(arr, 0, len(arr) - 1)\n",
        "print(\"Sorted array:\", arr)\n"
      ],
      "metadata": {
        "id": "h32Y3YzrpC3C"
      },
      "execution_count": null,
      "outputs": []
    },
    {
      "cell_type": "code",
      "source": [
        "def mergesort(arr, start, end):\n",
        "\n",
        "  if start < end:\n",
        "    mid = (start+end)//2\n",
        "    mergesort(arr, start, mid)\n",
        "    mergesort(arr, mid+1, end)\n",
        "    merge(arr, start, mid, end)\n",
        "\n",
        "def merge(arr, start, mid, end):\n",
        "\n",
        "  left = arr[start:mid+1]\n",
        "  right = arr[mid+1: end+1]\n",
        "\n",
        "  i =j =0\n",
        "  k = start\n",
        "\n",
        "  while i < len(left) and j < len(right):\n",
        "    if left[i] <= right[j]:\n",
        "      arr[k] = left[i]\n",
        "      i+=1\n",
        "\n",
        "    else:\n",
        "      arr[k] =right[j]\n",
        "      j+=1\n",
        "    k+=1\n",
        "\n",
        "    while i < len(left):\n",
        "      arr[k] = left[i]\n",
        "      i+=1\n",
        "      k+=1\n",
        "\n",
        "    while j < len(right):\n",
        "      arr[k] = right[j]\n",
        "      j+=1\n",
        "      k+=1\n",
        "\n",
        "arr = [60, 20, 50, 40, 70, 10, 30]\n",
        "mergesort(arr, 0, len(arr) - 1)\n",
        "print(\"Sorted array:\", arr)"
      ],
      "metadata": {
        "colab": {
          "base_uri": "https://localhost:8080/"
        },
        "id": "6PlwqM_vVTa0",
        "outputId": "e8c2861c-1126-42cb-f7f3-442178b21eae"
      },
      "execution_count": null,
      "outputs": [
        {
          "output_type": "stream",
          "name": "stdout",
          "text": [
            "Sorted array: [10, 20, 60, 40, 50, 70, 30]\n"
          ]
        }
      ]
    },
    {
      "cell_type": "code",
      "source": [
        "from typing_extensions import dataclass_transform\n",
        "class Node:\n",
        "  def __init__(self, data):\n",
        "    self.data = data\n",
        "    self.next = None\n",
        "\n",
        "\n",
        "class LinkedList:\n",
        "\n",
        "  def __init__(self):\n",
        "    self.head = None\n",
        "\n",
        "\n",
        "  def insertatbegin(self,num):\n",
        "    new_node = Node(new_data)\n",
        "    new_node.next = self.head\n",
        "    self.head = new_node\n",
        "\n",
        "  def printlist(self):\n",
        "    temp = self.head\n",
        "    while temp:\n",
        "      print(temp.data)\n",
        "      temp = temp.next\n",
        "\n",
        "  def insertatend(self, new_data):\n",
        "\n",
        "    new_node = Node(new_data)\n",
        "    if self.head is None:\n",
        "      self.head = new_node\n",
        "      return\n",
        "    last = self.head\n",
        "    while last.next:\n",
        "      last = last.next\n",
        "    last.next = new_node\n",
        "\n",
        "\n",
        "  def deletebegin(self):\n",
        "    if self.head is None:\n",
        "      return\n",
        "    self.head = self.head.next\n",
        "\n",
        "  def deleteend(self):\n",
        "    if self.head is None:\n",
        "      return\n",
        "    if self.head.next is None:\n",
        "      self.head = None\n",
        "      return\n",
        "\n",
        "    temp = self.head\n",
        "    while temp.next.next:\n",
        "      temp = temp.next\n",
        "    temp.next = None\n",
        "\n",
        "  def search(self, x):\n",
        "    temp = self.head\n",
        "    position =0\n",
        "\n",
        "    while temp:\n",
        "      if temp.data ==x:\n",
        "        return f\"value found\"\n",
        "      temp =temp.next\n",
        "      position +=1\n",
        "    return \"value not found\"\n",
        "\n",
        "\n",
        "if __name__ ==\"__main__\":\n",
        "  ll = LinkedList()\n",
        "\n",
        "  ll.insertatbegin(1)"
      ],
      "metadata": {
        "id": "4nw5j8l6j3qz"
      },
      "execution_count": null,
      "outputs": []
    },
    {
      "cell_type": "code",
      "source": [
        "class Node:\n",
        "\n",
        "  def __init__(self,data):\n",
        "    self.data =data\n",
        "    self.next = None\n",
        "\n",
        "class LinkedList:\n",
        "\n",
        "  def __init__(self, data):\n",
        "    self.head = None\n",
        "\n",
        "  def insertatbegin(self, new_data):\n",
        "    new_node = Node(new_data)\n",
        "    new_node.next = self.head\n",
        "    self.head = new_node\n",
        "\n",
        "  def printList(self):\n",
        "    temp = self.head\n",
        "    while temp:\n",
        "      print(temp.data)\n",
        "      temp = temp.next\n",
        "\n",
        "  def insertend(self, new_data):\n",
        "    new_node = Node(new_data)\n",
        "    if self.head is None:\n",
        "      self.head = new_node\n",
        "      return\n",
        "    last = self.head\n",
        "    while last.next:\n",
        "      last = last.next\n",
        "    last.next = new_node\n",
        "\n",
        "  def deletebegin(self):\n",
        "    if self.head is None:\n",
        "      return\n",
        "    self.head = self.head.next\n",
        "\n",
        "  def deleteend(self):\n",
        "    if self.head is None:\n",
        "      return\n",
        "    if self.head.next is None:\n",
        "      self.head = None\n",
        "      return\n",
        "\n",
        "    temp = self.head\n",
        "    while temp.next.next:\n",
        "      temp = temp.next\n",
        "    temp.next = None\n",
        "\n",
        "  def search(self, x):\n",
        "    temp = self.head\n",
        "    position = 0\n",
        "\n",
        "    while temp:\n",
        "      if temp.data == x:\n",
        "        return f\"value found\"\n",
        "      temp = temp.next\n",
        "      position +=1\n",
        "    return \"value not found\""
      ],
      "metadata": {
        "id": "9ERCm_Mfn_D1"
      },
      "execution_count": null,
      "outputs": []
    },
    {
      "cell_type": "code",
      "source": [
        "class Node:\n",
        "\n",
        "  def __init__(self, data):\n",
        "    self.data = data\n",
        "    self.left = None\n",
        "    self.right = None\n",
        "\n",
        "class BinaryTree:\n",
        "\n",
        "  def __init__(self):\n",
        "    self.root = None\n",
        "\n",
        "  def insert(self, data):\n",
        "    new_node = Node(data)\n",
        "\n",
        "    if self.root is None:\n",
        "      self.root = new_node\n",
        "      return\n",
        "\n",
        "    else:\n",
        "      self.insertlogic(self.root, data)\n",
        "\n",
        "  def insertlogic(self, node, data):\n",
        "\n",
        "    if data < node.data:\n",
        "      if node.left is None:\n",
        "        node.left = Node(data)\n",
        "\n",
        "      else:\n",
        "        self.insertlogic(node.left, data)\n",
        "\n",
        "      if node.right is None:\n",
        "        node.right = Node(data)\n",
        "\n",
        "      else:\n",
        "        self.insertlogic(node.right, data)\n",
        "\n",
        "\n",
        "  def inorder(self, node):\n",
        "    if node:\n",
        "      self.inorder(node.left)\n",
        "      print(node.value, end=\"\")\n",
        "      self.inorder(node.right)\n",
        "\n",
        "\n",
        "  def preorder(self, node):\n",
        "    if node:\n",
        "      print(node.value, end=\"\")\n",
        "      self.preorder(node.left)\n",
        "      self.preorder(node.right)\n",
        "\n",
        "  def postorder(self, node):\n",
        "    if node:\n",
        "      self.postorder(node.left)\n",
        "      self.postorder(node.right)\n",
        "      print(node.value, end=\"\")\n",
        "\n",
        "  def search(self, data):\n",
        "    return searchlogic(self.root, data)\n",
        "\n",
        "  def searchlogic(self, node, data):\n",
        "    if node is None or node.value == value:\n",
        "      return node\n",
        "\n",
        "    if data < node.data:\n",
        "      return self.searchlogic(node.left, data)\n",
        "    else:\n",
        "      return self.searchlogic(node.right, data)\n",
        "\n",
        "  def height(self, node):\n",
        "    if node is None:\n",
        "      return -1\n",
        "\n",
        "    left_height = self.height(node.left)\n",
        "    right_height = self.height(node.right)\n",
        "\n",
        "    return max(left_height, right_height) +1"
      ],
      "metadata": {
        "id": "u6mVhCbdxyYE"
      },
      "execution_count": null,
      "outputs": []
    }
  ]
}