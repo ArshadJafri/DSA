{
  "nbformat": 4,
  "nbformat_minor": 0,
  "metadata": {
    "colab": {
      "provenance": []
    },
    "kernelspec": {
      "name": "python3",
      "display_name": "Python 3"
    },
    "language_info": {
      "name": "python"
    }
  },
  "cells": [
    {
      "cell_type": "code",
      "execution_count": 3,
      "metadata": {
        "colab": {
          "base_uri": "https://localhost:8080/"
        },
        "id": "ptLgLzVGz3fR",
        "outputId": "6e17849e-1b30-4515-c122-8f6759a33b2d"
      },
      "outputs": [
        {
          "output_type": "stream",
          "name": "stdout",
          "text": [
            "2\n"
          ]
        }
      ],
      "source": [
        "from typing import List\n",
        "def linear_search(arr:List, target : int):\n",
        "  for i in range(len(arr)):\n",
        "    if arr[i] == target:\n",
        "      return i\n",
        "      break\n",
        "  return -1\n",
        "\n",
        "print(linear_search([2,3,4,5], 4)  )\n",
        ""
      ]
    },
    {
      "cell_type": "code",
      "source": [
        "def binary_search(arr:List, target: int):\n",
        "\n",
        "  left = 0\n",
        "  right = len(arr)-1\n",
        "\n",
        "  while left <= right:\n",
        "    mid = (left+right) //2\n",
        "\n",
        "    if arr[mid] == target:\n",
        "      return mid\n",
        "      break\n",
        "\n",
        "    elif arr[mid] <= target:\n",
        "      left = mid+1\n",
        "      break\n",
        "\n",
        "    else:\n",
        "      right =mid -1\n",
        "      break\n",
        "    return mid\n",
        "\n",
        "  return -1\n",
        "\n",
        "print(binary_search([1,2,3,4,5,6],3))\n"
      ],
      "metadata": {
        "colab": {
          "base_uri": "https://localhost:8080/"
        },
        "id": "5NdOee0o0jx4",
        "outputId": "8a62f418-adbd-464e-bfda-6c4b6410127f"
      },
      "execution_count": 5,
      "outputs": [
        {
          "output_type": "stream",
          "name": "stdout",
          "text": [
            "2\n"
          ]
        }
      ]
    },
    {
      "cell_type": "code",
      "source": [
        "def bubble_sort(arr:List):\n",
        "\n",
        "  for i in range(len(arr)-1):\n",
        "    for j in range(len(arr)-1):\n",
        "      if arr[j] > arr[j+1]:\n",
        "        arr[j],arr[j+1]= arr[j+1], arr[j]\n",
        "\n",
        "\n",
        "  return arr\n",
        "\n",
        "print(bubble_sort([5,4,3,2,1]))"
      ],
      "metadata": {
        "colab": {
          "base_uri": "https://localhost:8080/"
        },
        "id": "ZczcEd5M1e7_",
        "outputId": "d69e796d-74e8-4e33-ce7d-c46d5cf891dd"
      },
      "execution_count": 13,
      "outputs": [
        {
          "output_type": "stream",
          "name": "stdout",
          "text": [
            "[1, 2, 3, 4, 5]\n"
          ]
        }
      ]
    },
    {
      "cell_type": "code",
      "source": [
        "def selection_sort(arr:List) -> List:\n",
        "\n",
        "  for i in range(len(arr)-1):\n",
        "    min_index = i\n",
        "    for j in range(i+1, len(arr)):\n",
        "      if arr[min_index] > arr[j]:\n",
        "        min_index = j\n",
        "\n",
        "    arr[i], arr[min_index] = arr[min_index], arr[i]\n",
        "\n",
        "  return arr\n",
        "\n",
        "print(selection_sort([5,4,3,2,1]))"
      ],
      "metadata": {
        "colab": {
          "base_uri": "https://localhost:8080/"
        },
        "id": "TXR4S8On5E9X",
        "outputId": "1442ad8b-eeb0-46d1-bb4d-13ad58718689"
      },
      "execution_count": 18,
      "outputs": [
        {
          "output_type": "stream",
          "name": "stdout",
          "text": [
            "[1, 2, 3, 4, 5]\n"
          ]
        }
      ]
    },
    {
      "cell_type": "code",
      "source": [
        "def insertion_sort(arr:List) -> List:\n",
        "\n",
        "  for i in range(1,len(arr)):\n",
        "    key = arr[i]\n",
        "    j = i-1\n",
        "\n",
        "    while(j >=0 and arr[j]> key):\n",
        "      arr[j+1]= arr[j]\n",
        "      j -=1\n",
        "\n",
        "    arr[j+1] = key\n",
        "\n",
        "\n",
        "  return arr\n",
        "\n",
        "print(insertion_sort([5,4,3,2,1]))"
      ],
      "metadata": {
        "colab": {
          "base_uri": "https://localhost:8080/"
        },
        "id": "cyJbcI42_bU4",
        "outputId": "d49a8fab-3f01-4fb9-b9f2-38a2541b36ee"
      },
      "execution_count": 23,
      "outputs": [
        {
          "output_type": "stream",
          "name": "stdout",
          "text": [
            "[1, 2, 3, 4, 5]\n"
          ]
        }
      ]
    }
  ]
}